{
 "cells": [
  {
   "cell_type": "markdown",
   "metadata": {
    "deletable": false,
    "editable": false,
    "id": "XgbBqzRm-QRn",
    "nbgrader": {
     "cell_type": "markdown",
     "checksum": "72b04b8587d49c853665bc34962ef95e",
     "grade": false,
     "grade_id": "cell-dbf37dcea5d7dc5c",
     "locked": true,
     "schema_version": 3,
     "solution": false,
     "task": false
    }
   },
   "source": [
    "---\n",
    "## Q6\n",
    "จงเขียนโปรแกรมที่หาว่าสามารถหาผลเฉลยของสมการกำลังสองจากสูตร $𝑥 = −𝑏±\\sqrt{b^2-4ac}$ ได้หรือไม่ \n",
    "\n",
    "โดยตรวจสอบว่า $𝑏^2 − 4𝑎𝑐 ≥ 0$ และ $𝑎 ≠ 0$ แล้วแสดงผลลัพธ์ดังตัวอย่างข้างล่างนี้"
   ]
  },
  {
   "cell_type": "markdown",
   "metadata": {
    "deletable": false,
    "editable": false,
    "id": "B5E1PWoG-QRp",
    "nbgrader": {
     "cell_type": "markdown",
     "checksum": "51a5f6569219bdd5769a1b151a0bb045",
     "grade": false,
     "grade_id": "cell-7ae57c7b0fc2869d",
     "locked": true,
     "schema_version": 3,
     "solution": false,
     "task": false
    }
   },
   "source": [
    "ตัวอย่างการทำงาน: <br>\n",
    "Enter coefficients a, b, c : 1,4,3<br>\n",
    "Can use quadratic formula: True"
   ]
  },
  {
   "cell_type": "markdown",
   "metadata": {
    "deletable": false,
    "editable": false,
    "id": "YHe1nVzI-QRp",
    "nbgrader": {
     "cell_type": "markdown",
     "checksum": "2154c78db69e29841cb24fe83b8864a4",
     "grade": false,
     "grade_id": "cell-1b10c564484fa711",
     "locked": true,
     "schema_version": 3,
     "solution": false,
     "task": false
    }
   },
   "source": [
    "ตัวอย่างการทำงาน: <br>\n",
    "Enter coefficients a, b, c : 2.3,-1.5,1.5 <br>\n",
    "Can use quadratic formula: False"
   ]
  },
  {
   "cell_type": "code",
   "execution_count": 10,
   "metadata": {
    "deletable": false,
    "id": "kz0mQfnR-QRq",
    "nbgrader": {
     "cell_type": "code",
     "checksum": "00b4f29d142119c6df600285bfcbb9ed",
     "grade": false,
     "grade_id": "quardatic",
     "locked": false,
     "schema_version": 3,
     "solution": true
    }
   },
   "outputs": [],
   "source": [
    "def run():\n",
    "    A,B,C = input(\"Enter coefficients a,b,c : \").split(\",\")\n",
    "    a = float(A)\n",
    "    b = float(B)\n",
    "    c = float(C)\n",
    "    if a == 0 or (b**2)-(4*a*c) < 0 :\n",
    "        ans = \"False\"\n",
    "    else :\n",
    "        ans = \"True\"\n",
    "    print(f'Can use quadratic formula: {ans}')\n",
    "        "
   ]
  },
  {
   "cell_type": "code",
   "execution_count": 12,
   "metadata": {
    "colab": {
     "base_uri": "https://localhost:8080/"
    },
    "deletable": false,
    "editable": false,
    "id": "DmwfyfP3-QRs",
    "nbgrader": {
     "cell_type": "code",
     "checksum": "b7b03893ed0aaf1a2af60ae612b4be37",
     "grade": false,
     "grade_id": "cell-befa13e6c82bd29b",
     "locked": true,
     "schema_version": 3,
     "solution": false,
     "task": false
    },
    "outputId": "b1a699d9-754a-46ac-f8b7-33950260be02"
   },
   "outputs": [
    {
     "name": "stdin",
     "output_type": "stream",
     "text": [
      "Enter coefficients a,b,c :  1,4,3\n"
     ]
    },
    {
     "name": "stdout",
     "output_type": "stream",
     "text": [
      "Can use quadratic formula: True\n"
     ]
    }
   ],
   "source": [
    "'''ตรวจสอบผลลัพธ์ของโปรแกรมด้วยการรันที่ cell นี้'''\n",
    "run()"
   ]
  },
  {
   "cell_type": "code",
   "execution_count": 98,
   "metadata": {
    "deletable": false,
    "editable": false,
    "id": "luM4bDg5-QRt",
    "nbgrader": {
     "cell_type": "code",
     "checksum": "98777bef341b333d2832a797ee356d8a",
     "grade": false,
     "grade_id": "partial",
     "locked": true,
     "schema_version": 3,
     "solution": false,
     "task": false
    }
   },
   "outputs": [],
   "source": [
    "'''ตรวจสอบผลการคำนวณ'''\n",
    "from unittest.mock import patch\n",
    "from io import StringIO\n",
    "import math\n",
    "\n",
    "def test(inputs,expected_output): \n",
    "    with patch('builtins.input', side_effect=inputs), patch('sys.stdout', new_callable=StringIO) as mock_stdout:\n",
    "        run()\n",
    "        assert mock_stdout.getvalue() == expected_output,mock_stdout.getvalue()\n",
    "def test_easy_print(inputs,expected_output):\n",
    "    with patch('builtins.input', side_effect=inputs), patch('sys.stdout', new_callable=StringIO) as mock_stdout:\n",
    "        run()\n",
    "        assert expected_output in mock_stdout.getvalue(), mock_stdout.getvalue()"
   ]
  },
  {
   "cell_type": "code",
   "execution_count": 100,
   "metadata": {
    "deletable": false,
    "editable": false,
    "nbgrader": {
     "cell_type": "code",
     "checksum": "190fb435d298ee808b538c471b8abe26",
     "grade": true,
     "grade_id": "easy_print",
     "locked": true,
     "points": 1,
     "schema_version": 3,
     "solution": false,
     "task": false
    }
   },
   "outputs": [
    {
     "name": "stdout",
     "output_type": "stream",
     "text": [
      "ok\n"
     ]
    }
   ],
   "source": [
    "'''ตรวจสอบการแสดงผลลัพธ์อย่างง่าย'''\n",
    "test_easy_print(inputs=['1,4,3'],expected_output='Can use quadratic formula')\n",
    "print('ok')"
   ]
  },
  {
   "cell_type": "code",
   "execution_count": 102,
   "metadata": {
    "deletable": false,
    "editable": false,
    "id": "qHNkpDia-QRu",
    "nbgrader": {
     "cell_type": "code",
     "checksum": "3571892eb3c76598b95d7bf26c8f773b",
     "grade": true,
     "grade_id": "exact",
     "locked": false,
     "points": 1,
     "schema_version": 3,
     "solution": false
    }
   },
   "outputs": [
    {
     "name": "stdout",
     "output_type": "stream",
     "text": [
      "ok\n"
     ]
    }
   ],
   "source": [
    "'''ตรวจสอบผลการคำนวณและการแสดงผลลัพธ์ให้เหมือนกับโจทย์ที่กำหนดให้'''\n",
    "test(['1,4,3'],'Can use quadratic formula: True\\n')\n",
    "test(['2.5,-1.5,1.5'],'Can use quadratic formula: False\\n')\n",
    "print('ok')"
   ]
  },
  {
   "cell_type": "code",
   "execution_count": 104,
   "metadata": {
    "deletable": false,
    "editable": false,
    "id": "rDFBLtRi-zIv",
    "nbgrader": {
     "cell_type": "code",
     "checksum": "8df9fbfab97bbee1197c60b52b7047df",
     "grade": true,
     "grade_id": "hidden_tests",
     "locked": true,
     "points": 1,
     "schema_version": 3,
     "solution": false,
     "task": false
    }
   },
   "outputs": [
    {
     "data": {
      "text/plain": [
       "'เทสลับ'"
      ]
     },
     "execution_count": 104,
     "metadata": {},
     "output_type": "execute_result"
    }
   ],
   "source": [
    "'''เทสลับ'''"
   ]
  },
  {
   "cell_type": "code",
   "execution_count": null,
   "metadata": {},
   "outputs": [],
   "source": []
  }
 ],
 "metadata": {
  "BondSan": "25700263e5b608b21306b9cc04ed9e9c3c7d7f7a29a33c28680dbdc95e71adda0027a396333e34b44ce705158d63f12af72e4f680fd9ede813796acbf44c8c6cdf3ca9414d3cc0139c346ceca20d0e1f6cefe65c242dd282edf855e659d9e02d45462e41036d8c431fbb3415c7f061d734153986b7642ebe81ba93018c1f838adc35f24df8fa1cf06781978cf3923432f8061e2847b1ff414d073f08e839193db204bafd189f1716ed6196d8d0fadb9d28d7befbe9e2fd4b35347abe2409cf7bb643d0bcada44ee35e1c25e524cd5a78c270c10dd65934738c06f9b4af6bbfb8d7f22e99024ca97d1c2328afa29568b71889ad76689180ae4619984ca291af59",
  "colab": {
   "provenance": []
  },
  "kernelspec": {
   "display_name": "Python 3 (ipykernel)",
   "language": "python",
   "name": "python3"
  },
  "language_info": {
   "codemirror_mode": {
    "name": "ipython",
    "version": 3
   },
   "file_extension": ".py",
   "mimetype": "text/x-python",
   "name": "python",
   "nbconvert_exporter": "python",
   "pygments_lexer": "ipython3",
   "version": "3.12.4"
  },
  "vscode": {
   "interpreter": {
    "hash": "6be8050420abbc3e9d6268a86434bcee2c24fb660e5fbe6b2c0a73d1e6743b58"
   }
  }
 },
 "nbformat": 4,
 "nbformat_minor": 4
}
