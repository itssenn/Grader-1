{
 "cells": [
  {
   "cell_type": "markdown",
   "metadata": {
    "deletable": false,
    "editable": false,
    "id": "H8SraZxyDTYr",
    "nbgrader": {
     "cell_type": "markdown",
     "checksum": "761e98a5d3522d87f966823f4bd8dc71",
     "grade": false,
     "grade_id": "cell-dbf37dcea5d7dc5c",
     "locked": true,
     "schema_version": 3,
     "solution": false,
     "task": false
    }
   },
   "source": [
    "---\n",
    "## Q8\n",
    "จงเขียนโปรแกรมที่รับความยาวด้าน 3 ด้านของสามเหลี่ยมจากผู้ใช้ แล้วตรวจสอบว่าเป็นด้านของสามเหลี่ยม\n",
    "มุมฉากหรือไม่ และแสดงผลลัพธ์ดังตัวอย่างข้างล่างนี้"
   ]
  },
  {
   "cell_type": "markdown",
   "metadata": {
    "deletable": false,
    "editable": false,
    "id": "JWBM8ScBDTYs",
    "nbgrader": {
     "cell_type": "markdown",
     "checksum": "f557044b58e6793714b853878628edb8",
     "grade": false,
     "grade_id": "cell-7ae57c7b0fc2869d",
     "locked": true,
     "schema_version": 3,
     "solution": false,
     "task": false
    }
   },
   "source": [
    "ตัวอย่างการทำงาน: <br>\n",
    "Length of 3 sides: 3,5,4<br>\n",
    "Right triangle: True"
   ]
  },
  {
   "cell_type": "markdown",
   "metadata": {
    "deletable": false,
    "editable": false,
    "id": "XdXQD2CnDTYt",
    "nbgrader": {
     "cell_type": "markdown",
     "checksum": "f424b57858e12c88cdca279eb4d2e93b",
     "grade": false,
     "grade_id": "cell-1b10c564484fa711",
     "locked": true,
     "schema_version": 3,
     "solution": false,
     "task": false
    }
   },
   "source": [
    "ตัวอย่างการทำงาน: <br>\n",
    "Length of 3 sides: 3.4,5,4 <br>\n",
    "Right triangle: False"
   ]
  },
  {
   "cell_type": "code",
   "execution_count": 1,
   "metadata": {
    "deletable": false,
    "id": "7-wVrZpwDTYt",
    "nbgrader": {
     "cell_type": "code",
     "checksum": "6827357314450a5c369f2f774d4d1deb",
     "grade": false,
     "grade_id": "right_triangle",
     "locked": false,
     "schema_version": 3,
     "solution": true
    }
   },
   "outputs": [],
   "source": [
    "def run():\n",
    "    sides = sorted(input(\"Length of 3 sides:\").split(\",\"))\n",
    "    if float(sides[0])**2 + float(sides[1])**2 == float(sides[2])**2 :\n",
    "        print(\"Right triangle: True\")\n",
    "    else :\n",
    "        print(\"Right triangle: False\")"
   ]
  },
  {
   "cell_type": "code",
   "execution_count": 3,
   "metadata": {
    "colab": {
     "base_uri": "https://localhost:8080/"
    },
    "deletable": false,
    "editable": false,
    "id": "AFgiowWVDTYv",
    "nbgrader": {
     "cell_type": "code",
     "checksum": "b7b03893ed0aaf1a2af60ae612b4be37",
     "grade": false,
     "grade_id": "cell-befa13e6c82bd29b",
     "locked": true,
     "schema_version": 3,
     "solution": false,
     "task": false
    },
    "outputId": "e3669fb4-abf0-4e4d-eb32-e5c00b9aac07"
   },
   "outputs": [
    {
     "name": "stdin",
     "output_type": "stream",
     "text": [
      "Length of 3 sides: 2,4,3\n"
     ]
    },
    {
     "name": "stdout",
     "output_type": "stream",
     "text": [
      "Right triangle: False\n"
     ]
    }
   ],
   "source": [
    "'''ตรวจสอบผลลัพธ์ของโปรแกรมด้วยการรันที่ cell นี้'''\n",
    "run()"
   ]
  },
  {
   "cell_type": "code",
   "execution_count": 5,
   "metadata": {
    "deletable": false,
    "editable": false,
    "id": "Yk_e8zTwDTYw",
    "nbgrader": {
     "cell_type": "code",
     "checksum": "98777bef341b333d2832a797ee356d8a",
     "grade": false,
     "grade_id": "partial",
     "locked": true,
     "schema_version": 3,
     "solution": false,
     "task": false
    }
   },
   "outputs": [],
   "source": [
    "'''ตรวจสอบผลการคำนวณ'''\n",
    "from unittest.mock import patch\n",
    "from io import StringIO\n",
    "import math\n",
    "\n",
    "def test(inputs,expected_output): \n",
    "    with patch('builtins.input', side_effect=inputs), patch('sys.stdout', new_callable=StringIO) as mock_stdout:\n",
    "        run()\n",
    "        assert mock_stdout.getvalue() == expected_output,mock_stdout.getvalue()\n",
    "def test_easy_print(inputs,expected_output):\n",
    "    with patch('builtins.input', side_effect=inputs), patch('sys.stdout', new_callable=StringIO) as mock_stdout:\n",
    "        run()\n",
    "        assert expected_output in mock_stdout.getvalue(), mock_stdout.getvalue()"
   ]
  },
  {
   "cell_type": "code",
   "execution_count": 7,
   "metadata": {
    "deletable": false,
    "editable": false,
    "nbgrader": {
     "cell_type": "code",
     "checksum": "29e7ad328769612c75386a11994ec25d",
     "grade": true,
     "grade_id": "easy_print",
     "locked": true,
     "points": 1,
     "schema_version": 3,
     "solution": false,
     "task": false
    }
   },
   "outputs": [
    {
     "name": "stdout",
     "output_type": "stream",
     "text": [
      "ok\n"
     ]
    }
   ],
   "source": [
    "'''ตรวจสอบการแสดงผลลัพธ์อย่างง่าย'''\n",
    "test_easy_print(inputs=['1,2,3'],expected_output='Right')\n",
    "print('ok')"
   ]
  },
  {
   "cell_type": "code",
   "execution_count": 9,
   "metadata": {
    "deletable": false,
    "editable": false,
    "id": "dBnCzYYpDTYw",
    "nbgrader": {
     "cell_type": "code",
     "checksum": "8729d32eb203280394beea4683f37f38",
     "grade": true,
     "grade_id": "exact",
     "locked": false,
     "points": 1,
     "schema_version": 3,
     "solution": false
    }
   },
   "outputs": [
    {
     "name": "stdout",
     "output_type": "stream",
     "text": [
      "ok\n"
     ]
    }
   ],
   "source": [
    "'''ตรวจสอบผลการคำนวณและการแสดงผลลัพธ์ให้เหมือนกับโจทย์ที่กำหนดให้'''\n",
    "test(['3,5,4'],'Right triangle: True\\n')\n",
    "test(['3,4,5'],'Right triangle: True\\n')\n",
    "test(['4,3,5'],'Right triangle: True\\n')\n",
    "test(['4,5,3'],'Right triangle: True\\n')\n",
    "test(['5,4,3'],'Right triangle: True\\n')\n",
    "test(['5,3,4'],'Right triangle: True\\n')\n",
    "test(['3.4,5,4'],'Right triangle: False\\n')\n",
    "print('ok')"
   ]
  },
  {
   "cell_type": "code",
   "execution_count": 11,
   "metadata": {
    "deletable": false,
    "editable": false,
    "id": "ECRf6CWNK6kc",
    "nbgrader": {
     "cell_type": "code",
     "checksum": "8df9fbfab97bbee1197c60b52b7047df",
     "grade": true,
     "grade_id": "hidden_tests",
     "locked": true,
     "points": 1,
     "schema_version": 3,
     "solution": false,
     "task": false
    }
   },
   "outputs": [
    {
     "data": {
      "text/plain": [
       "'เทสลับ'"
      ]
     },
     "execution_count": 11,
     "metadata": {},
     "output_type": "execute_result"
    }
   ],
   "source": [
    "'''เทสลับ'''"
   ]
  },
  {
   "cell_type": "code",
   "execution_count": null,
   "metadata": {},
   "outputs": [],
   "source": []
  }
 ],
 "metadata": {
  "BondSan": "453c42b92f9fd2d917c9d65c89abad9758e266350ef3ec5b04875a6249dcf0657ec845147c099b2fecf03317f6f9a73298ca4633a3db6ce5d54c3931c8e9a287ba4041eb53c4d3902fd4ba4ca3ed7d158c957814c4f1c29c18f5998f42ae2b23be18341e416189d62f490b4efbc83859240e01ed98bf72c15529bdfd04055a192667ac466e62fe57a55cb0bfe69f5e8d281cc87c72fca8b04a560b8506a2f3b734df7219bab62d7a9f81a582c176118f13da5b07f1d3fc33fbf1eeab5cfedeb263a61e7d5095b9a529576b4063da1cfc57ce89737ae2775ffcaac715d5afd4262b12443c27f78a831bdff5e0961929c445d6415b2221471fe76b25dad4a451e9",
  "colab": {
   "provenance": []
  },
  "kernelspec": {
   "display_name": "Python 3 (ipykernel)",
   "language": "python",
   "name": "python3"
  },
  "language_info": {
   "codemirror_mode": {
    "name": "ipython",
    "version": 3
   },
   "file_extension": ".py",
   "mimetype": "text/x-python",
   "name": "python",
   "nbconvert_exporter": "python",
   "pygments_lexer": "ipython3",
   "version": "3.12.4"
  },
  "vscode": {
   "interpreter": {
    "hash": "6be8050420abbc3e9d6268a86434bcee2c24fb660e5fbe6b2c0a73d1e6743b58"
   }
  }
 },
 "nbformat": 4,
 "nbformat_minor": 4
}
