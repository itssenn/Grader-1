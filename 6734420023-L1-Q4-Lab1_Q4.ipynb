{
 "cells": [
  {
   "cell_type": "markdown",
   "metadata": {
    "deletable": false,
    "editable": false,
    "nbgrader": {
     "cell_type": "markdown",
     "checksum": "eec89d02fc1e50ed39cd661589d98d5d",
     "grade": false,
     "grade_id": "cell-3bfadf3aed27f570",
     "locked": true,
     "schema_version": 3,
     "solution": false,
     "task": false
    }
   },
   "source": [
    "---\n",
    "## Q4\n",
    "จงเขียนโปรแกรมที่รับชื่อและอายุจากผู้ใช้ แล้วคำนวณปีเกิดของผู้ใช้เพื่อสร้าง email address ของผู้ใช้โดย\n",
    "เอาชื่อมาต่อด้วยเลข 2 หลักหลังของปีเกิดและต่อด้วย @chula.ac.th แสดงผลลัพธ์ดังตัวอย่างข้างล่างนี้"
   ]
  },
  {
   "cell_type": "markdown",
   "metadata": {
    "deletable": false,
    "editable": false,
    "nbgrader": {
     "cell_type": "markdown",
     "checksum": "539b493040a0c0fcaefce4a2d3773ee2",
     "grade": false,
     "grade_id": "cell-ec5606fd3a86d0a8",
     "locked": true,
     "schema_version": 3,
     "solution": false,
     "task": false
    }
   },
   "source": [
    "### ตัวอย่างการทำงาน: \n",
    "\n",
    "Name: Somsak <br>\n",
    "Age : 20 <br>\n",
    "Somsak47@chula.ac.th"
   ]
  },
  {
   "cell_type": "markdown",
   "metadata": {
    "deletable": false,
    "editable": false,
    "nbgrader": {
     "cell_type": "markdown",
     "checksum": "cb2f27480d3620d941fe6f0b341567bf",
     "grade": false,
     "grade_id": "cell-857f2c5b2830974f",
     "locked": true,
     "schema_version": 3,
     "solution": false,
     "task": false
    }
   },
   "source": [
    "### ตัวอย่างการทำงาน: \n",
    "        \n",
    "Name: Jaidee <br>\n",
    "Age : 65 <br>\n",
    "Jaidee02@chula.ac.th"
   ]
  },
  {
   "cell_type": "markdown",
   "metadata": {
    "deletable": false,
    "editable": false,
    "nbgrader": {
     "cell_type": "markdown",
     "checksum": "36ad69dfcd2ca49033e5773b0e66a0f8",
     "grade": false,
     "grade_id": "cell-f0a1903745fc19bb",
     "locked": true,
     "schema_version": 3,
     "solution": false,
     "task": false
    }
   },
   "source": [
    "### ตัวอย่างการทำงาน: \n",
    "        \n",
    "Name: Yaya <br>\n",
    "Age : 71 <br>\n",
    "Yaya96@chula.ac.th"
   ]
  },
  {
   "cell_type": "code",
   "execution_count": 52,
   "metadata": {
    "deletable": false,
    "nbgrader": {
     "cell_type": "code",
     "checksum": "652273fc2a8fde06152d5019bcd5ed52",
     "grade": false,
     "grade_id": "email_address",
     "locked": false,
     "schema_version": 3,
     "solution": true
    }
   },
   "outputs": [],
   "source": [
    "def run():\n",
    "    name = input(\"Name: \")\n",
    "    age = input(\"Age: \")\n",
    "    year = 67-int(age)\n",
    "    if year < 0 :\n",
    "        year = int(year)+100\n",
    "    elif 0 <= year < 10 :\n",
    "        year = '0'+str(year)\n",
    "        \n",
    "    print(f'{name+str(year)}@chula.ac.th')"
   ]
  },
  {
   "cell_type": "code",
   "execution_count": 54,
   "metadata": {
    "deletable": false,
    "editable": false,
    "nbgrader": {
     "cell_type": "code",
     "checksum": "e75533d6b8b33fdc66859afe7c9db0bc",
     "grade": false,
     "grade_id": "cell-956082f75e6b7e9b",
     "locked": true,
     "schema_version": 3,
     "solution": false,
     "task": false
    }
   },
   "outputs": [
    {
     "name": "stdin",
     "output_type": "stream",
     "text": [
      "Name:  Jaidee\n",
      "Age:  65\n"
     ]
    },
    {
     "name": "stdout",
     "output_type": "stream",
     "text": [
      "Jaidee02@chula.ac.th\n"
     ]
    }
   ],
   "source": [
    "'''ตรวจสอบผลลัพธ์ของโปรแกรมด้วยการรันที่ cell นี้'''\n",
    "run()"
   ]
  },
  {
   "cell_type": "code",
   "execution_count": 56,
   "metadata": {
    "deletable": false,
    "editable": false,
    "nbgrader": {
     "cell_type": "code",
     "checksum": "bc578a080ca2fe855ac9098fe9d6973d",
     "grade": false,
     "grade_id": "exact",
     "locked": true,
     "schema_version": 3,
     "solution": false,
     "task": false
    }
   },
   "outputs": [],
   "source": [
    "from unittest.mock import patch\n",
    "from io import StringIO\n",
    "from datetime import date \n",
    "\n",
    "def test(inputs,expected_output): \n",
    "    with patch('builtins.input', side_effect=inputs), patch('sys.stdout', new_callable=StringIO) as mock_stdout:\n",
    "        run()\n",
    "        assert mock_stdout.getvalue() == expected_output,mock_stdout.getvalue()\n",
    "def test_easy_print(inputs,expected_output):\n",
    "    with patch('builtins.input', side_effect=inputs), patch('sys.stdout', new_callable=StringIO) as mock_stdout:\n",
    "        run()\n",
    "        assert expected_output in mock_stdout.getvalue(), mock_stdout.getvalue()"
   ]
  },
  {
   "cell_type": "code",
   "execution_count": 58,
   "metadata": {
    "deletable": false,
    "editable": false,
    "nbgrader": {
     "cell_type": "code",
     "checksum": "12200b0542deb0881e6ac04ba56ab63a",
     "grade": true,
     "grade_id": "easy_print",
     "locked": true,
     "points": 1,
     "schema_version": 3,
     "solution": false,
     "task": false
    }
   },
   "outputs": [
    {
     "name": "stdout",
     "output_type": "stream",
     "text": [
      "ok\n"
     ]
    }
   ],
   "source": [
    "'''ตรวจสอบการแสดงผลลัพธ์อย่างง่าย'''\n",
    "test_easy_print(inputs=['Somsak','65'],expected_output='Somsak')\n",
    "print('ok')"
   ]
  },
  {
   "cell_type": "code",
   "execution_count": 60,
   "metadata": {
    "deletable": false,
    "editable": false,
    "nbgrader": {
     "cell_type": "code",
     "checksum": "e2e1fa2b4a6521666a82d4361a7ceb5d",
     "grade": true,
     "grade_id": "test1",
     "locked": true,
     "points": 1,
     "schema_version": 3,
     "solution": false,
     "task": false
    }
   },
   "outputs": [
    {
     "name": "stdout",
     "output_type": "stream",
     "text": [
      "ok\n"
     ]
    }
   ],
   "source": [
    "'''ตรวจสอบเลขสองตัวท้ายและการแสดงผลลัพธ์'''\n",
    "'''กรณีเลขสองตัวท้ายของปีเกิดอยู่ในช่วง 00-09'''\n",
    "test(['Somsak','67'],'Somsak00@chula.ac.th\\n')\n",
    "test(['Yaya','57'],'Yaya10@chula.ac.th\\n') \n",
    "print('ok')"
   ]
  },
  {
   "cell_type": "code",
   "execution_count": 62,
   "metadata": {
    "deletable": false,
    "editable": false,
    "nbgrader": {
     "cell_type": "code",
     "checksum": "b409355ddcb39139efe4bd3f554eb717",
     "grade": true,
     "grade_id": "test2",
     "locked": true,
     "points": 1,
     "schema_version": 3,
     "solution": false,
     "task": false
    }
   },
   "outputs": [
    {
     "name": "stdout",
     "output_type": "stream",
     "text": [
      "ok\n"
     ]
    }
   ],
   "source": [
    "'''ตรวจสอบเลขสองตัวท้ายและการแสดงผลลัพธ์'''\n",
    "'''กรณีเลขสองตัวท้ายของปีเกิดอยู่ในช่วง 10-99'''\n",
    "test(['Somsak','20'],'Somsak47@chula.ac.th\\n')\n",
    "test(['Jaidee','65'],'Jaidee02@chula.ac.th\\n')  \n",
    "test(['Yaya','71'],'Yaya96@chula.ac.th\\n') \n",
    "print('ok')"
   ]
  },
  {
   "cell_type": "code",
   "execution_count": 64,
   "metadata": {
    "deletable": false,
    "editable": false,
    "nbgrader": {
     "cell_type": "code",
     "checksum": "4eb7734e6d7ab9665fe726b05bfac4ee",
     "grade": true,
     "grade_id": "hidden_test",
     "locked": true,
     "points": 1,
     "schema_version": 3,
     "solution": false,
     "task": false
    }
   },
   "outputs": [
    {
     "data": {
      "text/plain": [
       "'เทสลับ'"
      ]
     },
     "execution_count": 64,
     "metadata": {},
     "output_type": "execute_result"
    }
   ],
   "source": [
    "'''เทสลับ'''"
   ]
  },
  {
   "cell_type": "code",
   "execution_count": null,
   "metadata": {},
   "outputs": [],
   "source": []
  }
 ],
 "metadata": {
  "BondSan": "18c3453646c8cfa19cd1da76ce14b367522b99e464358b7080f0d328b5e47374b959b5e8a6587c8d17ece43db9e96dace173b1c91df52a3513cbd5ac74659f104b9caabb75578112c78462328caeec6948ee3daa3f4fa7a8993e7c0df0883d9cb443c459c28699d764f0a4748da29bd65f867092419367486f056f9ba5ac42c8bacd25a70067010ad16dd07f8e3426f5855cb3071553f10f450bf43b6d41b0b366a515ece80d9a6015a73bd40afbde5eb9dc76211e896572ce7c69ac332122b42259ee4364e1490cb20ffdbd8488b2adedb2331c2d89c96918ea23bdc85e58db3161d2c16e7efa5627602c38713947e03c273a751c128cd3cadf656d1e85b2d8",
  "kernelspec": {
   "display_name": "Python 3 (ipykernel)",
   "language": "python",
   "name": "python3"
  },
  "language_info": {
   "codemirror_mode": {
    "name": "ipython",
    "version": 3
   },
   "file_extension": ".py",
   "mimetype": "text/x-python",
   "name": "python",
   "nbconvert_exporter": "python",
   "pygments_lexer": "ipython3",
   "version": "3.12.4"
  }
 },
 "nbformat": 4,
 "nbformat_minor": 4
}
