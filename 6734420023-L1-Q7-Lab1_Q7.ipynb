{
 "cells": [
  {
   "cell_type": "markdown",
   "metadata": {
    "deletable": false,
    "editable": false,
    "id": "od_0NuJbBPPz",
    "nbgrader": {
     "cell_type": "markdown",
     "checksum": "1c6acc04ad9a5ec8e029986eef571e57",
     "grade": false,
     "grade_id": "cell-dbf37dcea5d7dc5c",
     "locked": true,
     "schema_version": 3,
     "solution": false,
     "task": false
    }
   },
   "source": [
    "---\n",
    "## Q7\n",
    "จงเขียนโปรแกรมที่รับความยาวด้าน 3 ด้านของสามเหลี่ยมจากผู้ใช้ แล้วตรวจสอบว่าเป็นด้านของสามเหลี่ยม\n",
    "หรือไม่ และแสดงผลลัพธ์ดังตัวอย่างข้างล่างนี้"
   ]
  },
  {
   "cell_type": "markdown",
   "metadata": {
    "deletable": false,
    "editable": false,
    "id": "aTqWDTrlBPP0",
    "nbgrader": {
     "cell_type": "markdown",
     "checksum": "14917790db9f744b1de7d9b297a490cb",
     "grade": false,
     "grade_id": "cell-7ae57c7b0fc2869d",
     "locked": true,
     "schema_version": 3,
     "solution": false,
     "task": false
    }
   },
   "source": [
    "ตัวอย่างการทำงาน: <br>\n",
    "Length of 3 sides: 3,7.5,4<br>\n",
    "Triangle: False"
   ]
  },
  {
   "cell_type": "markdown",
   "metadata": {
    "deletable": false,
    "editable": false,
    "id": "BpP6U6XiBPP1",
    "nbgrader": {
     "cell_type": "markdown",
     "checksum": "2df3cab22569d1f807a13e8c388c4919",
     "grade": false,
     "grade_id": "cell-1b10c564484fa711",
     "locked": true,
     "schema_version": 3,
     "solution": false,
     "task": false
    }
   },
   "source": [
    "ตัวอย่างการทำงาน:<br>\n",
    "Length of 3 sides: 3.4,5,4<br>\n",
    "Triangle: True"
   ]
  },
  {
   "cell_type": "code",
   "execution_count": 2,
   "metadata": {
    "deletable": false,
    "id": "A9-C1uSHBPP2",
    "nbgrader": {
     "cell_type": "code",
     "checksum": "c5dc194f7482f08fc7c97c52f0b7db6f",
     "grade": false,
     "grade_id": "triangle",
     "locked": false,
     "schema_version": 3,
     "solution": true
    }
   },
   "outputs": [],
   "source": [
    "def run():\n",
    "    sides = sorted(input(\"Length of 3 sides:\").split(\",\"))\n",
    "    if float(sides[0])+float(sides[1]) > float(sides[2]) : \n",
    "        print(\"Triangle: True\")\n",
    "    else :\n",
    "        print(\"Triangle: False\")\n",
    "    "
   ]
  },
  {
   "cell_type": "code",
   "execution_count": 4,
   "metadata": {
    "colab": {
     "base_uri": "https://localhost:8080/"
    },
    "deletable": false,
    "editable": false,
    "id": "buJY6-XmBPP5",
    "nbgrader": {
     "cell_type": "code",
     "checksum": "b7b03893ed0aaf1a2af60ae612b4be37",
     "grade": false,
     "grade_id": "cell-befa13e6c82bd29b",
     "locked": true,
     "schema_version": 3,
     "solution": false,
     "task": false
    },
    "outputId": "9745af8c-991a-4abb-dd46-033e04e9798b"
   },
   "outputs": [
    {
     "name": "stdin",
     "output_type": "stream",
     "text": [
      "Length of 3 sides: 1,2,3\n"
     ]
    },
    {
     "name": "stdout",
     "output_type": "stream",
     "text": [
      "Triangle: False\n"
     ]
    }
   ],
   "source": [
    "'''ตรวจสอบผลลัพธ์ของโปรแกรมด้วยการรันที่ cell นี้'''\n",
    "run()"
   ]
  },
  {
   "cell_type": "code",
   "execution_count": 6,
   "metadata": {
    "deletable": false,
    "editable": false,
    "id": "tX9qsXD5BPP7",
    "nbgrader": {
     "cell_type": "code",
     "checksum": "98777bef341b333d2832a797ee356d8a",
     "grade": false,
     "grade_id": "partial",
     "locked": true,
     "schema_version": 3,
     "solution": false,
     "task": false
    }
   },
   "outputs": [],
   "source": [
    "'''ตรวจสอบผลการคำนวณ'''\n",
    "from unittest.mock import patch\n",
    "from io import StringIO\n",
    "import math\n",
    "\n",
    "def test(inputs,expected_output): \n",
    "    with patch('builtins.input', side_effect=inputs), patch('sys.stdout', new_callable=StringIO) as mock_stdout:\n",
    "        run()\n",
    "        assert mock_stdout.getvalue() == expected_output,mock_stdout.getvalue()\n",
    "def test_easy_print(inputs,expected_output):\n",
    "    with patch('builtins.input', side_effect=inputs), patch('sys.stdout', new_callable=StringIO) as mock_stdout:\n",
    "        run()\n",
    "        assert expected_output in mock_stdout.getvalue(), mock_stdout.getvalue()"
   ]
  },
  {
   "cell_type": "code",
   "execution_count": 8,
   "metadata": {
    "deletable": false,
    "editable": false,
    "nbgrader": {
     "cell_type": "code",
     "checksum": "10447a9db86a8214418b8d08599469da",
     "grade": true,
     "grade_id": "easy_print",
     "locked": true,
     "points": 1,
     "schema_version": 3,
     "solution": false,
     "task": false
    }
   },
   "outputs": [
    {
     "name": "stdout",
     "output_type": "stream",
     "text": [
      "ok\n"
     ]
    }
   ],
   "source": [
    "'''ตรวจสอบการแสดงผลลัพธ์อย่างง่าย'''\n",
    "test_easy_print(inputs=['1,2,3'],expected_output='Triangle')\n",
    "print('ok')"
   ]
  },
  {
   "cell_type": "code",
   "execution_count": 10,
   "metadata": {
    "deletable": false,
    "editable": false,
    "id": "urrNdwMtBPP8",
    "nbgrader": {
     "cell_type": "code",
     "checksum": "ca24325fef6378abeb3f91abb4042eee",
     "grade": true,
     "grade_id": "exact",
     "locked": false,
     "points": 1,
     "schema_version": 3,
     "solution": false
    }
   },
   "outputs": [
    {
     "name": "stdout",
     "output_type": "stream",
     "text": [
      "ok\n"
     ]
    }
   ],
   "source": [
    "'''ตรวจสอบผลการคำนวณและการแสดงผลลัพธ์ให้เหมือนกับโจทย์ที่กำหนดให้'''\n",
    "test(['1,2,3'],'Triangle: False\\n')\n",
    "test(['3,7.5,4'],'Triangle: False\\n')\n",
    "test(['3.4,5,4'],'Triangle: True\\n')\n",
    "print('ok')"
   ]
  },
  {
   "cell_type": "code",
   "execution_count": 220,
   "metadata": {
    "deletable": false,
    "editable": false,
    "id": "Q4PsnDWzCMnU",
    "nbgrader": {
     "cell_type": "code",
     "checksum": "8df9fbfab97bbee1197c60b52b7047df",
     "grade": true,
     "grade_id": "hidden_tests",
     "locked": true,
     "points": 1,
     "schema_version": 3,
     "solution": false,
     "task": false
    }
   },
   "outputs": [
    {
     "data": {
      "text/plain": [
       "'เทสลับ'"
      ]
     },
     "execution_count": 220,
     "metadata": {},
     "output_type": "execute_result"
    }
   ],
   "source": [
    "'''เทสลับ'''"
   ]
  },
  {
   "cell_type": "code",
   "execution_count": null,
   "metadata": {},
   "outputs": [],
   "source": []
  }
 ],
 "metadata": {
  "BondSan": "625f2810725581992f854b6fcd91936f0483684bd578514b19d80f2d2d2515825f5a248ea766f52c5c341601d9d031d6d6752e4bdd37beec5349fa34ff1ecb7f61c6fb32085bca76b4909ee9014a11e4d6f24880eb1d310f10aa0212807cabb7ed124df2f1088a746fe8ec5696ca9945a01326b23082b71cc277b85abc47e3dc5c50c85fd743cbd40844f4416fe5d8bac99195d7115960794123ab30d1fd2e7a1a9cf1373b7577521f1b0cb0f54376bcd89f4dd6d19e06669e21e416a3214d9a658428029fb0b7bf92c359194b3fa0180db607f03945484015b7b6ab6373e48835cd3c71dbfdb99c2d33e9e06719fc18b6d14a8b425e6786d426ef47724376e8",
  "colab": {
   "provenance": []
  },
  "kernelspec": {
   "display_name": "Python 3 (ipykernel)",
   "language": "python",
   "name": "python3"
  },
  "language_info": {
   "codemirror_mode": {
    "name": "ipython",
    "version": 3
   },
   "file_extension": ".py",
   "mimetype": "text/x-python",
   "name": "python",
   "nbconvert_exporter": "python",
   "pygments_lexer": "ipython3",
   "version": "3.12.4"
  },
  "vscode": {
   "interpreter": {
    "hash": "6be8050420abbc3e9d6268a86434bcee2c24fb660e5fbe6b2c0a73d1e6743b58"
   }
  }
 },
 "nbformat": 4,
 "nbformat_minor": 4
}
